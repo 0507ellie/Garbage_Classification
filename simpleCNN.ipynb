{
 "cells": [
  {
   "cell_type": "markdown",
   "id": "3aa08b76",
   "metadata": {},
   "source": [
    "### Dataset Structure\n",
    "\n",
    "```\n",
    "dataset/\n",
    "├── train/\n",
    "│   ├── plastic/\n",
    "│   ├── paper/\n",
    "│   ├── glass/\n",
    "│   └── ...\n",
    "├── val/\n",
    "│   ├── plastic/\n",
    "│   ├── paper/\n",
    "│   └── ...\n",
    "```\n",
    "\n",
    "Source: Kaggle Garbage Classification<br></br>\n",
    "Link: https://www.kaggle.com/datasets/asdasdasasdas/garbage-classification?resource=download"
   ]
  },
  {
   "cell_type": "markdown",
   "id": "3bd07376",
   "metadata": {},
   "source": [
    "##### Import Required Libraries"
   ]
  },
  {
   "cell_type": "code",
   "execution_count": 5,
   "id": "b16b164d",
   "metadata": {},
   "outputs": [],
   "source": [
    "import torch\n",
    "import torch.nn as nn\n",
    "import torch.optim as optim\n",
    "from torch.utils.data import DataLoader\n",
    "from torchvision import datasets, transforms, models"
   ]
  },
  {
   "cell_type": "markdown",
   "id": "8b2115c5",
   "metadata": {},
   "source": [
    "##### Data Processing"
   ]
  },
  {
   "cell_type": "code",
   "execution_count": 6,
   "id": "70282f09",
   "metadata": {},
   "outputs": [],
   "source": [
    "transform = transforms.Compose([\n",
    "    transforms.Resize((128, 128)),\n",
    "    transforms.ToTensor(),\n",
    "    transforms.Normalize([0.5], [0.5])\n",
    "])\n",
    "\n",
    "train_dataset = datasets.ImageFolder(r'C:\\Users\\chang\\OneDrive\\文件\\ELLIE\\Garbage Classification\\dataset\\train', transform=transform)\n",
    "val_dataset = datasets.ImageFolder(r'C:\\Users\\chang\\OneDrive\\文件\\ELLIE\\Garbage Classification\\dataset\\val', transform=transform)\n",
    "\n",
    "train_loader = DataLoader(train_dataset, batch_size=32, shuffle=True)\n",
    "val_loader = DataLoader(val_dataset, batch_size=32, shuffle=False)\n"
   ]
  },
  {
   "cell_type": "markdown",
   "id": "e5c7a50d",
   "metadata": {},
   "source": [
    "##### Define a Simple CNN"
   ]
  },
  {
   "cell_type": "code",
   "execution_count": 7,
   "id": "eb066cc1",
   "metadata": {},
   "outputs": [],
   "source": [
    "class SimpleCNN(nn.Module):\n",
    "    def __init__(self, num_classes):\n",
    "        super(SimpleCNN, self).__init__()\n",
    "        self.net = nn.Sequential(\n",
    "            nn.Conv2d(3, 16, kernel_size=3, padding=1),\n",
    "            nn.ReLU(),\n",
    "            nn.MaxPool2d(2, 2),\n",
    "            nn.Conv2d(16, 32, kernel_size=3, padding=1),\n",
    "            nn.ReLU(),\n",
    "            nn.MaxPool2d(2, 2),\n",
    "            nn.Flatten(),\n",
    "            nn.Linear(32 * 32 * 32, 128),\n",
    "            nn.ReLU(),\n",
    "            nn.Linear(128, num_classes)\n",
    "        )\n",
    "\n",
    "    def forward(self, x):\n",
    "        return self.net(x)"
   ]
  },
  {
   "cell_type": "markdown",
   "id": "08f2e1d6",
   "metadata": {},
   "source": [
    "##### Train the model"
   ]
  },
  {
   "cell_type": "code",
   "execution_count": 8,
   "id": "b7ad560f",
   "metadata": {},
   "outputs": [
    {
     "name": "stdout",
     "output_type": "stream",
     "text": [
      "Epoch 1, Loss: 1.3791\n",
      "Epoch 2, Loss: 0.9540\n",
      "Epoch 3, Loss: 0.7763\n",
      "Epoch 4, Loss: 0.5667\n",
      "Epoch 5, Loss: 0.4157\n",
      "Epoch 6, Loss: 0.2661\n",
      "Epoch 7, Loss: 0.1714\n",
      "Epoch 8, Loss: 0.1110\n",
      "Epoch 9, Loss: 0.0624\n",
      "Epoch 10, Loss: 0.0556\n"
     ]
    }
   ],
   "source": [
    "device = torch.device('cuda' if torch.cuda.is_available() else 'cpu')\n",
    "model = SimpleCNN(num_classes=len(train_dataset.classes)).to(device)\n",
    "\n",
    "criterion = nn.CrossEntropyLoss()\n",
    "optimizer = optim.Adam(model.parameters(), lr=0.001)\n",
    "\n",
    "for epoch in range(10):\n",
    "    model.train()\n",
    "    total_loss = 0\n",
    "    for images, labels in train_loader:\n",
    "        images, labels = images.to(device), labels.to(device)\n",
    "\n",
    "        outputs = model(images)\n",
    "        loss = criterion(outputs, labels)\n",
    "\n",
    "        optimizer.zero_grad()\n",
    "        loss.backward()\n",
    "        optimizer.step()\n",
    "\n",
    "        total_loss += loss.item()\n",
    "\n",
    "    print(f\"Epoch {epoch+1}, Loss: {total_loss/len(train_loader):.4f}\")\n"
   ]
  },
  {
   "cell_type": "markdown",
   "id": "9510a85a",
   "metadata": {},
   "source": [
    "##### Evaluate the model"
   ]
  },
  {
   "cell_type": "code",
   "execution_count": 9,
   "id": "de6045fd",
   "metadata": {},
   "outputs": [
    {
     "name": "stdout",
     "output_type": "stream",
     "text": [
      "Validation Accuracy: 61.81%\n"
     ]
    }
   ],
   "source": [
    "model.eval()\n",
    "correct = 0\n",
    "total = 0\n",
    "with torch.no_grad():\n",
    "    for images, labels in val_loader:\n",
    "        images, labels = images.to(device), labels.to(device)\n",
    "        outputs = model(images)\n",
    "        _, predicted = torch.max(outputs, 1)\n",
    "        total += labels.size(0)\n",
    "        correct += (predicted == labels).sum().item()\n",
    "\n",
    "print(f'Validation Accuracy: {100 * correct / total:.2f}%')\n"
   ]
  },
  {
   "cell_type": "markdown",
   "id": "613f3319",
   "metadata": {},
   "source": [
    "##### Save the model"
   ]
  },
  {
   "cell_type": "code",
   "execution_count": 10,
   "id": "eb6909ee",
   "metadata": {},
   "outputs": [],
   "source": [
    "torch.save(model.state_dict(), 'garbage_classifier.pth')"
   ]
  },
  {
   "cell_type": "markdown",
   "id": "48a8eec5",
   "metadata": {},
   "source": [
    "##### Predict"
   ]
  },
  {
   "cell_type": "markdown",
   "id": "eba0679d",
   "metadata": {},
   "source": [
    "###### Load the model"
   ]
  },
  {
   "cell_type": "code",
   "execution_count": 11,
   "id": "947efcec",
   "metadata": {},
   "outputs": [
    {
     "data": {
      "text/plain": [
       "SimpleCNN(\n",
       "  (net): Sequential(\n",
       "    (0): Conv2d(3, 16, kernel_size=(3, 3), stride=(1, 1), padding=(1, 1))\n",
       "    (1): ReLU()\n",
       "    (2): MaxPool2d(kernel_size=2, stride=2, padding=0, dilation=1, ceil_mode=False)\n",
       "    (3): Conv2d(16, 32, kernel_size=(3, 3), stride=(1, 1), padding=(1, 1))\n",
       "    (4): ReLU()\n",
       "    (5): MaxPool2d(kernel_size=2, stride=2, padding=0, dilation=1, ceil_mode=False)\n",
       "    (6): Flatten(start_dim=1, end_dim=-1)\n",
       "    (7): Linear(in_features=32768, out_features=128, bias=True)\n",
       "    (8): ReLU()\n",
       "    (9): Linear(in_features=128, out_features=6, bias=True)\n",
       "  )\n",
       ")"
      ]
     },
     "execution_count": 11,
     "metadata": {},
     "output_type": "execute_result"
    }
   ],
   "source": [
    "model = SimpleCNN(num_classes=6)  # Use same model class\n",
    "model.load_state_dict(torch.load('garbage_classifier.pth'))\n",
    "model.eval()  # Set to evaluation mode\n"
   ]
  },
  {
   "cell_type": "markdown",
   "id": "5dadcdac",
   "metadata": {},
   "source": [
    "###### Load a single image"
   ]
  },
  {
   "cell_type": "code",
   "execution_count": 12,
   "id": "d582dee8",
   "metadata": {},
   "outputs": [],
   "source": [
    "from PIL import Image\n",
    "from torchvision import transforms\n",
    "\n",
    "# Define same transform as used in training\n",
    "transform = transforms.Compose([\n",
    "    transforms.Resize((128, 128)),\n",
    "    transforms.ToTensor(),\n",
    "    transforms.Normalize([0.5], [0.5])\n",
    "])\n",
    "\n",
    "# Load your image\n",
    "img = Image.open('example.jpg').convert('RGB')  # RGB is important\n",
    "img_tensor = transform(img)\n",
    "img_tensor = img_tensor.unsqueeze(0)  # Add batch dimension: shape becomes [1, 3, 128, 128]\n"
   ]
  },
  {
   "cell_type": "markdown",
   "id": "ae1a70de",
   "metadata": {},
   "source": [
    "###### Predict"
   ]
  },
  {
   "cell_type": "code",
   "execution_count": 15,
   "id": "16d6f563",
   "metadata": {},
   "outputs": [
    {
     "name": "stdout",
     "output_type": "stream",
     "text": [
      "Predicted class: cardboard\n"
     ]
    }
   ],
   "source": [
    "with torch.no_grad():\n",
    "    outputs = model(img_tensor)  # Forward pass\n",
    "    _, predicted = torch.max(outputs, 1)  # Get index of highest score\n",
    "\n",
    "print(f\"Predicted class: {train_dataset.classes[predicted.item()]}\")\n"
   ]
  }
 ],
 "metadata": {
  "kernelspec": {
   "display_name": "base",
   "language": "python",
   "name": "python3"
  },
  "language_info": {
   "codemirror_mode": {
    "name": "ipython",
    "version": 3
   },
   "file_extension": ".py",
   "mimetype": "text/x-python",
   "name": "python",
   "nbconvert_exporter": "python",
   "pygments_lexer": "ipython3",
   "version": "3.9.13"
  }
 },
 "nbformat": 4,
 "nbformat_minor": 5
}
